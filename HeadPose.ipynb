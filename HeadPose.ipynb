{
  "cells": [
    {
      "cell_type": "code",
      "execution_count": 1,
      "metadata": {
        "colab": {
          "base_uri": "https://localhost:8080/"
        },
        "id": "lsanDa867LH7",
        "outputId": "66bb1916-00f4-42bf-a9fe-e3a9739bb76a"
      },
      "outputs": [
        {
          "output_type": "stream",
          "name": "stdout",
          "text": [
            "Looking in indexes: https://pypi.org/simple, https://us-python.pkg.dev/colab-wheels/public/simple/\n",
            "Collecting mediapipe\n",
            "  Downloading mediapipe-0.8.10-cp37-cp37m-manylinux_2_17_x86_64.manylinux2014_x86_64.whl (32.8 MB)\n",
            "\u001b[K     |████████████████████████████████| 32.8 MB 269 kB/s \n",
            "\u001b[?25hRequirement already satisfied: protobuf>=3.11.4 in /usr/local/lib/python3.7/dist-packages (from mediapipe) (3.17.3)\n",
            "Requirement already satisfied: absl-py in /usr/local/lib/python3.7/dist-packages (from mediapipe) (1.1.0)\n",
            "Requirement already satisfied: numpy in /usr/local/lib/python3.7/dist-packages (from mediapipe) (1.21.6)\n",
            "Requirement already satisfied: attrs>=19.1.0 in /usr/local/lib/python3.7/dist-packages (from mediapipe) (21.4.0)\n",
            "Requirement already satisfied: matplotlib in /usr/local/lib/python3.7/dist-packages (from mediapipe) (3.2.2)\n",
            "Requirement already satisfied: opencv-contrib-python in /usr/local/lib/python3.7/dist-packages (from mediapipe) (4.1.2.30)\n",
            "Requirement already satisfied: six>=1.9 in /usr/local/lib/python3.7/dist-packages (from protobuf>=3.11.4->mediapipe) (1.15.0)\n",
            "Requirement already satisfied: cycler>=0.10 in /usr/local/lib/python3.7/dist-packages (from matplotlib->mediapipe) (0.11.0)\n",
            "Requirement already satisfied: kiwisolver>=1.0.1 in /usr/local/lib/python3.7/dist-packages (from matplotlib->mediapipe) (1.4.2)\n",
            "Requirement already satisfied: python-dateutil>=2.1 in /usr/local/lib/python3.7/dist-packages (from matplotlib->mediapipe) (2.8.2)\n",
            "Requirement already satisfied: pyparsing!=2.0.4,!=2.1.2,!=2.1.6,>=2.0.1 in /usr/local/lib/python3.7/dist-packages (from matplotlib->mediapipe) (3.0.9)\n",
            "Requirement already satisfied: typing-extensions in /usr/local/lib/python3.7/dist-packages (from kiwisolver>=1.0.1->matplotlib->mediapipe) (4.2.0)\n",
            "Installing collected packages: mediapipe\n",
            "Successfully installed mediapipe-0.8.10\n"
          ]
        }
      ],
      "source": [
        "!pip install mediapipe\n"
      ]
    },
    {
      "cell_type": "code",
      "execution_count": 2,
      "metadata": {
        "id": "oAg3AG8e7Ou0"
      },
      "outputs": [],
      "source": [
        "import numpy as np\n",
        "import os,cv2,math,glob,random\n",
        "import scipy.io as sio\n",
        "from math import cos, sin\n",
        "from pathlib import Path\n",
        "import pandas as pd\n",
        "import mediapipe\n",
        "import warnings\n",
        "warnings.filterwarnings('ignore')\n",
        "from google.colab.patches import cv2_imshow"
      ]
    },
    {
      "cell_type": "code",
      "execution_count": 3,
      "metadata": {
        "id": "_w7VVdqr7RwF"
      },
      "outputs": [],
      "source": [
        "# Loading AFLW2000 Data\n",
        "%%capture\n",
        "if os.path.isfile('/content/AFLW2000-3D.zip') == False:\n",
        "  !gdown --id  1fP3zvSCYjll_o_m7S12nvQLZ9MnsEoap\n",
        "  !unzip /content/AFLW2000-3D.zip"
      ]
    },
    {
      "cell_type": "code",
      "execution_count": 4,
      "metadata": {
        "id": "HCRqxiGpgkVR"
      },
      "outputs": [],
      "source": [
        "photo_names = [file for file in os.listdir(\"/content/AFLW2000\") if file.endswith(\".jpg\")]\n"
      ]
    },
    {
      "cell_type": "code",
      "execution_count": 5,
      "metadata": {
        "id": "8sHcbs-V7UGl"
      },
      "outputs": [],
      "source": [
        "def draw_axis(img, pitch,yaw,roll, tdx=None, tdy=None, size = 100):\n",
        "\n",
        "    yaw = -yaw\n",
        "    if tdx != None and tdy != None:\n",
        "        tdx = tdx\n",
        "        tdy = tdy\n",
        "    else:\n",
        "        height, width = img.shape[:2]\n",
        "        tdx = width / 2\n",
        "        tdy = height / 2\n",
        "\n",
        "    # X-Axis pointing to right. drawn in red\n",
        "    x1 = size * (cos(yaw) * cos(roll)) + tdx\n",
        "    y1 = size * (cos(pitch) * sin(roll) + cos(roll) * sin(pitch) * sin(yaw)) + tdy\n",
        "\n",
        "    # Y-Axis | drawn in green\n",
        "    #        v\n",
        "    x2 = size * (-cos(yaw) * sin(roll)) + tdx\n",
        "    y2 = size * (cos(pitch) * cos(roll) - sin(pitch) * sin(yaw) * sin(roll)) + tdy\n",
        "\n",
        "    # Z-Axis (out of the screen) drawn in blue\n",
        "    x3 = size * (sin(yaw)) + tdx\n",
        "    y3 = size * (-cos(yaw) * sin(pitch)) + tdy\n",
        "\n",
        "    cv2.line(img, (int(tdx), int(tdy)), (int(x1),int(y1)),(0,0,255),3)\n",
        "    cv2.line(img, (int(tdx), int(tdy)), (int(x2),int(y2)),(0,255,0),3)\n",
        "    cv2.line(img, (int(tdx), int(tdy)), (int(x3),int(y3)),(255,0,0),2)\n",
        "\n",
        "    return img"
      ]
    },
    {
      "cell_type": "code",
      "execution_count": 6,
      "metadata": {
        "id": "xfR9dz9h7Vq9"
      },
      "outputs": [],
      "source": [
        "# set data for all images using mediapipe\n",
        "imgs_data = []\n",
        "for i in range(len(photo_names)):\n",
        "  faceModule = mediapipe.solutions.face_mesh\n",
        "  # loading image and its correspinding mat file\n",
        "  with faceModule.FaceMesh(static_image_mode=True) as faces:\n",
        "      # loading the image\n",
        "      image_path = '/content/AFLW2000/'+photo_names[i]\n",
        "      image = cv2.imread(image_path)\n",
        "      # processing the face to extract the landmark points (468 point) for each x,y,z\n",
        "      results = faces.process(cv2.cvtColor(image, cv2.COLOR_BGR2RGB))\n",
        "      if results.multi_face_landmarks is not None: \n",
        "        # take only first face captured\n",
        "        face = results.multi_face_landmarks[0]\n",
        "        dimensions = []\n",
        "        #dimensions.append(photo_names[i])\n",
        "        for landmark in face.landmark:\n",
        "            x = landmark.x\n",
        "            y = landmark.y\n",
        "            # normalized x and y vals\n",
        "            dimensions = dimensions + [x, y]\n",
        "        \n",
        "        mat_file = sio.loadmat(image_path.strip('.jpg') +'.mat')\n",
        "        # extracting the labels 3 angels\n",
        "        pose_para = mat_file[\"Pose_Para\"][0][:3]\n",
        "        pitch = pose_para[0]\n",
        "        yaw = pose_para[1]\n",
        "        roll = pose_para[2]\n",
        "        dimensions = dimensions + [pitch, yaw, roll]\n",
        "        imgs_data.append(dimensions)"
      ]
    },
    {
      "cell_type": "code",
      "execution_count": 7,
      "metadata": {
        "id": "OuyADZnLl-Gx"
      },
      "outputs": [],
      "source": [
        "df = pd.DataFrame(imgs_data)"
      ]
    },
    {
      "cell_type": "code",
      "execution_count": 8,
      "metadata": {
        "colab": {
          "base_uri": "https://localhost:8080/",
          "height": 488
        },
        "id": "lGVb7OAVkUBD",
        "outputId": "b4f6985a-0d4e-40c2-95ae-3d717bfbb413"
      },
      "outputs": [
        {
          "output_type": "execute_result",
          "data": {
            "text/plain": [
              "           0         1         2         3         4         5         6    \\\n",
              "0     0.448754  0.656890  0.418689  0.590842  0.444155  0.615272  0.414519   \n",
              "1     0.524299  0.654976  0.556138  0.608479  0.532756  0.621761  0.540172   \n",
              "2     0.481340  0.702374  0.479999  0.616802  0.487799  0.643953  0.474284   \n",
              "3     0.519243  0.663119  0.549312  0.604009  0.530375  0.622777  0.540996   \n",
              "4     0.524361  0.717719  0.516385  0.635057  0.520145  0.655488  0.489452   \n",
              "...        ...       ...       ...       ...       ...       ...       ...   \n",
              "1848  0.504090  0.676269  0.476378  0.626752  0.492636  0.640910  0.459962   \n",
              "1849  0.537670  0.655519  0.547923  0.599958  0.533332  0.616351  0.518118   \n",
              "1850  0.502400  0.690067  0.521441  0.625629  0.509357  0.643490  0.503142   \n",
              "1851  0.492854  0.628528  0.531507  0.616141  0.513687  0.611495  0.556504   \n",
              "1852  0.518363  0.639063  0.476781  0.600335  0.500125  0.611455  0.448770   \n",
              "\n",
              "           7         8         9    ...       929       930       931  \\\n",
              "0     0.540589  0.414397  0.572191  ...  0.497754  0.476211  0.500643   \n",
              "1     0.552551  0.560312  0.592039  ...  0.512836  0.550949  0.516380   \n",
              "2     0.539957  0.481149  0.592342  ...  0.492416  0.554461  0.495673   \n",
              "3     0.542414  0.555569  0.585744  ...  0.516019  0.572935  0.517553   \n",
              "4     0.541296  0.514494  0.608619  ...  0.462973  0.559919  0.470022   \n",
              "...        ...       ...       ...  ...       ...       ...       ...   \n",
              "1848  0.558249  0.472019  0.606476  ...  0.497008  0.512953  0.501812   \n",
              "1849  0.548055  0.547741  0.583371  ...  0.501210  0.529540  0.505301   \n",
              "1850  0.554948  0.523840  0.604630  ...  0.499759  0.540161  0.504605   \n",
              "1851  0.570429  0.543054  0.609653  ...  0.568451  0.592051  0.568787   \n",
              "1852  0.572057  0.466398  0.589075  ...  0.515321  0.475354  0.521346   \n",
              "\n",
              "           932       933       934       935       936       937       938  \n",
              "0     0.576674  0.466314  0.588206  0.456244  0.171752  0.636963 -0.122694  \n",
              "1     0.606670  0.504229  0.612946  0.497414 -0.131739 -0.516555  0.183045  \n",
              "2     0.699269  0.480261  0.713179  0.468795  0.125778  0.136994  0.078335  \n",
              "3     0.654161  0.526009  0.662894  0.521066 -0.015460 -0.340136  0.215889  \n",
              "4     0.714684  0.435729  0.728277  0.420972 -0.132246  0.133910 -0.000346  \n",
              "...        ...       ...       ...       ...       ...       ...       ...  \n",
              "1848  0.623424  0.461359  0.632632  0.452058 -0.107574  0.334741 -0.166388  \n",
              "1849  0.595221  0.473705  0.601171  0.467461 -0.113956 -0.391885 -0.102590  \n",
              "1850  0.641151  0.476985  0.649424  0.469195 -0.217898 -0.212085  0.035913  \n",
              "1851  0.638897  0.621140  0.648150  0.622100 -0.379047 -0.301894  1.106254  \n",
              "1852  0.536583  0.454665  0.537665  0.441395 -0.021434  0.304979 -0.665881  \n",
              "\n",
              "[1853 rows x 939 columns]"
            ],
            "text/html": [
              "\n",
              "  <div id=\"df-c57d96a2-e010-4e34-8eee-4b424582a616\">\n",
              "    <div class=\"colab-df-container\">\n",
              "      <div>\n",
              "<style scoped>\n",
              "    .dataframe tbody tr th:only-of-type {\n",
              "        vertical-align: middle;\n",
              "    }\n",
              "\n",
              "    .dataframe tbody tr th {\n",
              "        vertical-align: top;\n",
              "    }\n",
              "\n",
              "    .dataframe thead th {\n",
              "        text-align: right;\n",
              "    }\n",
              "</style>\n",
              "<table border=\"1\" class=\"dataframe\">\n",
              "  <thead>\n",
              "    <tr style=\"text-align: right;\">\n",
              "      <th></th>\n",
              "      <th>0</th>\n",
              "      <th>1</th>\n",
              "      <th>2</th>\n",
              "      <th>3</th>\n",
              "      <th>4</th>\n",
              "      <th>5</th>\n",
              "      <th>6</th>\n",
              "      <th>7</th>\n",
              "      <th>8</th>\n",
              "      <th>9</th>\n",
              "      <th>...</th>\n",
              "      <th>929</th>\n",
              "      <th>930</th>\n",
              "      <th>931</th>\n",
              "      <th>932</th>\n",
              "      <th>933</th>\n",
              "      <th>934</th>\n",
              "      <th>935</th>\n",
              "      <th>936</th>\n",
              "      <th>937</th>\n",
              "      <th>938</th>\n",
              "    </tr>\n",
              "  </thead>\n",
              "  <tbody>\n",
              "    <tr>\n",
              "      <th>0</th>\n",
              "      <td>0.448754</td>\n",
              "      <td>0.656890</td>\n",
              "      <td>0.418689</td>\n",
              "      <td>0.590842</td>\n",
              "      <td>0.444155</td>\n",
              "      <td>0.615272</td>\n",
              "      <td>0.414519</td>\n",
              "      <td>0.540589</td>\n",
              "      <td>0.414397</td>\n",
              "      <td>0.572191</td>\n",
              "      <td>...</td>\n",
              "      <td>0.497754</td>\n",
              "      <td>0.476211</td>\n",
              "      <td>0.500643</td>\n",
              "      <td>0.576674</td>\n",
              "      <td>0.466314</td>\n",
              "      <td>0.588206</td>\n",
              "      <td>0.456244</td>\n",
              "      <td>0.171752</td>\n",
              "      <td>0.636963</td>\n",
              "      <td>-0.122694</td>\n",
              "    </tr>\n",
              "    <tr>\n",
              "      <th>1</th>\n",
              "      <td>0.524299</td>\n",
              "      <td>0.654976</td>\n",
              "      <td>0.556138</td>\n",
              "      <td>0.608479</td>\n",
              "      <td>0.532756</td>\n",
              "      <td>0.621761</td>\n",
              "      <td>0.540172</td>\n",
              "      <td>0.552551</td>\n",
              "      <td>0.560312</td>\n",
              "      <td>0.592039</td>\n",
              "      <td>...</td>\n",
              "      <td>0.512836</td>\n",
              "      <td>0.550949</td>\n",
              "      <td>0.516380</td>\n",
              "      <td>0.606670</td>\n",
              "      <td>0.504229</td>\n",
              "      <td>0.612946</td>\n",
              "      <td>0.497414</td>\n",
              "      <td>-0.131739</td>\n",
              "      <td>-0.516555</td>\n",
              "      <td>0.183045</td>\n",
              "    </tr>\n",
              "    <tr>\n",
              "      <th>2</th>\n",
              "      <td>0.481340</td>\n",
              "      <td>0.702374</td>\n",
              "      <td>0.479999</td>\n",
              "      <td>0.616802</td>\n",
              "      <td>0.487799</td>\n",
              "      <td>0.643953</td>\n",
              "      <td>0.474284</td>\n",
              "      <td>0.539957</td>\n",
              "      <td>0.481149</td>\n",
              "      <td>0.592342</td>\n",
              "      <td>...</td>\n",
              "      <td>0.492416</td>\n",
              "      <td>0.554461</td>\n",
              "      <td>0.495673</td>\n",
              "      <td>0.699269</td>\n",
              "      <td>0.480261</td>\n",
              "      <td>0.713179</td>\n",
              "      <td>0.468795</td>\n",
              "      <td>0.125778</td>\n",
              "      <td>0.136994</td>\n",
              "      <td>0.078335</td>\n",
              "    </tr>\n",
              "    <tr>\n",
              "      <th>3</th>\n",
              "      <td>0.519243</td>\n",
              "      <td>0.663119</td>\n",
              "      <td>0.549312</td>\n",
              "      <td>0.604009</td>\n",
              "      <td>0.530375</td>\n",
              "      <td>0.622777</td>\n",
              "      <td>0.540996</td>\n",
              "      <td>0.542414</td>\n",
              "      <td>0.555569</td>\n",
              "      <td>0.585744</td>\n",
              "      <td>...</td>\n",
              "      <td>0.516019</td>\n",
              "      <td>0.572935</td>\n",
              "      <td>0.517553</td>\n",
              "      <td>0.654161</td>\n",
              "      <td>0.526009</td>\n",
              "      <td>0.662894</td>\n",
              "      <td>0.521066</td>\n",
              "      <td>-0.015460</td>\n",
              "      <td>-0.340136</td>\n",
              "      <td>0.215889</td>\n",
              "    </tr>\n",
              "    <tr>\n",
              "      <th>4</th>\n",
              "      <td>0.524361</td>\n",
              "      <td>0.717719</td>\n",
              "      <td>0.516385</td>\n",
              "      <td>0.635057</td>\n",
              "      <td>0.520145</td>\n",
              "      <td>0.655488</td>\n",
              "      <td>0.489452</td>\n",
              "      <td>0.541296</td>\n",
              "      <td>0.514494</td>\n",
              "      <td>0.608619</td>\n",
              "      <td>...</td>\n",
              "      <td>0.462973</td>\n",
              "      <td>0.559919</td>\n",
              "      <td>0.470022</td>\n",
              "      <td>0.714684</td>\n",
              "      <td>0.435729</td>\n",
              "      <td>0.728277</td>\n",
              "      <td>0.420972</td>\n",
              "      <td>-0.132246</td>\n",
              "      <td>0.133910</td>\n",
              "      <td>-0.000346</td>\n",
              "    </tr>\n",
              "    <tr>\n",
              "      <th>...</th>\n",
              "      <td>...</td>\n",
              "      <td>...</td>\n",
              "      <td>...</td>\n",
              "      <td>...</td>\n",
              "      <td>...</td>\n",
              "      <td>...</td>\n",
              "      <td>...</td>\n",
              "      <td>...</td>\n",
              "      <td>...</td>\n",
              "      <td>...</td>\n",
              "      <td>...</td>\n",
              "      <td>...</td>\n",
              "      <td>...</td>\n",
              "      <td>...</td>\n",
              "      <td>...</td>\n",
              "      <td>...</td>\n",
              "      <td>...</td>\n",
              "      <td>...</td>\n",
              "      <td>...</td>\n",
              "      <td>...</td>\n",
              "      <td>...</td>\n",
              "    </tr>\n",
              "    <tr>\n",
              "      <th>1848</th>\n",
              "      <td>0.504090</td>\n",
              "      <td>0.676269</td>\n",
              "      <td>0.476378</td>\n",
              "      <td>0.626752</td>\n",
              "      <td>0.492636</td>\n",
              "      <td>0.640910</td>\n",
              "      <td>0.459962</td>\n",
              "      <td>0.558249</td>\n",
              "      <td>0.472019</td>\n",
              "      <td>0.606476</td>\n",
              "      <td>...</td>\n",
              "      <td>0.497008</td>\n",
              "      <td>0.512953</td>\n",
              "      <td>0.501812</td>\n",
              "      <td>0.623424</td>\n",
              "      <td>0.461359</td>\n",
              "      <td>0.632632</td>\n",
              "      <td>0.452058</td>\n",
              "      <td>-0.107574</td>\n",
              "      <td>0.334741</td>\n",
              "      <td>-0.166388</td>\n",
              "    </tr>\n",
              "    <tr>\n",
              "      <th>1849</th>\n",
              "      <td>0.537670</td>\n",
              "      <td>0.655519</td>\n",
              "      <td>0.547923</td>\n",
              "      <td>0.599958</td>\n",
              "      <td>0.533332</td>\n",
              "      <td>0.616351</td>\n",
              "      <td>0.518118</td>\n",
              "      <td>0.548055</td>\n",
              "      <td>0.547741</td>\n",
              "      <td>0.583371</td>\n",
              "      <td>...</td>\n",
              "      <td>0.501210</td>\n",
              "      <td>0.529540</td>\n",
              "      <td>0.505301</td>\n",
              "      <td>0.595221</td>\n",
              "      <td>0.473705</td>\n",
              "      <td>0.601171</td>\n",
              "      <td>0.467461</td>\n",
              "      <td>-0.113956</td>\n",
              "      <td>-0.391885</td>\n",
              "      <td>-0.102590</td>\n",
              "    </tr>\n",
              "    <tr>\n",
              "      <th>1850</th>\n",
              "      <td>0.502400</td>\n",
              "      <td>0.690067</td>\n",
              "      <td>0.521441</td>\n",
              "      <td>0.625629</td>\n",
              "      <td>0.509357</td>\n",
              "      <td>0.643490</td>\n",
              "      <td>0.503142</td>\n",
              "      <td>0.554948</td>\n",
              "      <td>0.523840</td>\n",
              "      <td>0.604630</td>\n",
              "      <td>...</td>\n",
              "      <td>0.499759</td>\n",
              "      <td>0.540161</td>\n",
              "      <td>0.504605</td>\n",
              "      <td>0.641151</td>\n",
              "      <td>0.476985</td>\n",
              "      <td>0.649424</td>\n",
              "      <td>0.469195</td>\n",
              "      <td>-0.217898</td>\n",
              "      <td>-0.212085</td>\n",
              "      <td>0.035913</td>\n",
              "    </tr>\n",
              "    <tr>\n",
              "      <th>1851</th>\n",
              "      <td>0.492854</td>\n",
              "      <td>0.628528</td>\n",
              "      <td>0.531507</td>\n",
              "      <td>0.616141</td>\n",
              "      <td>0.513687</td>\n",
              "      <td>0.611495</td>\n",
              "      <td>0.556504</td>\n",
              "      <td>0.570429</td>\n",
              "      <td>0.543054</td>\n",
              "      <td>0.609653</td>\n",
              "      <td>...</td>\n",
              "      <td>0.568451</td>\n",
              "      <td>0.592051</td>\n",
              "      <td>0.568787</td>\n",
              "      <td>0.638897</td>\n",
              "      <td>0.621140</td>\n",
              "      <td>0.648150</td>\n",
              "      <td>0.622100</td>\n",
              "      <td>-0.379047</td>\n",
              "      <td>-0.301894</td>\n",
              "      <td>1.106254</td>\n",
              "    </tr>\n",
              "    <tr>\n",
              "      <th>1852</th>\n",
              "      <td>0.518363</td>\n",
              "      <td>0.639063</td>\n",
              "      <td>0.476781</td>\n",
              "      <td>0.600335</td>\n",
              "      <td>0.500125</td>\n",
              "      <td>0.611455</td>\n",
              "      <td>0.448770</td>\n",
              "      <td>0.572057</td>\n",
              "      <td>0.466398</td>\n",
              "      <td>0.589075</td>\n",
              "      <td>...</td>\n",
              "      <td>0.515321</td>\n",
              "      <td>0.475354</td>\n",
              "      <td>0.521346</td>\n",
              "      <td>0.536583</td>\n",
              "      <td>0.454665</td>\n",
              "      <td>0.537665</td>\n",
              "      <td>0.441395</td>\n",
              "      <td>-0.021434</td>\n",
              "      <td>0.304979</td>\n",
              "      <td>-0.665881</td>\n",
              "    </tr>\n",
              "  </tbody>\n",
              "</table>\n",
              "<p>1853 rows × 939 columns</p>\n",
              "</div>\n",
              "      <button class=\"colab-df-convert\" onclick=\"convertToInteractive('df-c57d96a2-e010-4e34-8eee-4b424582a616')\"\n",
              "              title=\"Convert this dataframe to an interactive table.\"\n",
              "              style=\"display:none;\">\n",
              "        \n",
              "  <svg xmlns=\"http://www.w3.org/2000/svg\" height=\"24px\"viewBox=\"0 0 24 24\"\n",
              "       width=\"24px\">\n",
              "    <path d=\"M0 0h24v24H0V0z\" fill=\"none\"/>\n",
              "    <path d=\"M18.56 5.44l.94 2.06.94-2.06 2.06-.94-2.06-.94-.94-2.06-.94 2.06-2.06.94zm-11 1L8.5 8.5l.94-2.06 2.06-.94-2.06-.94L8.5 2.5l-.94 2.06-2.06.94zm10 10l.94 2.06.94-2.06 2.06-.94-2.06-.94-.94-2.06-.94 2.06-2.06.94z\"/><path d=\"M17.41 7.96l-1.37-1.37c-.4-.4-.92-.59-1.43-.59-.52 0-1.04.2-1.43.59L10.3 9.45l-7.72 7.72c-.78.78-.78 2.05 0 2.83L4 21.41c.39.39.9.59 1.41.59.51 0 1.02-.2 1.41-.59l7.78-7.78 2.81-2.81c.8-.78.8-2.07 0-2.86zM5.41 20L4 18.59l7.72-7.72 1.47 1.35L5.41 20z\"/>\n",
              "  </svg>\n",
              "      </button>\n",
              "      \n",
              "  <style>\n",
              "    .colab-df-container {\n",
              "      display:flex;\n",
              "      flex-wrap:wrap;\n",
              "      gap: 12px;\n",
              "    }\n",
              "\n",
              "    .colab-df-convert {\n",
              "      background-color: #E8F0FE;\n",
              "      border: none;\n",
              "      border-radius: 50%;\n",
              "      cursor: pointer;\n",
              "      display: none;\n",
              "      fill: #1967D2;\n",
              "      height: 32px;\n",
              "      padding: 0 0 0 0;\n",
              "      width: 32px;\n",
              "    }\n",
              "\n",
              "    .colab-df-convert:hover {\n",
              "      background-color: #E2EBFA;\n",
              "      box-shadow: 0px 1px 2px rgba(60, 64, 67, 0.3), 0px 1px 3px 1px rgba(60, 64, 67, 0.15);\n",
              "      fill: #174EA6;\n",
              "    }\n",
              "\n",
              "    [theme=dark] .colab-df-convert {\n",
              "      background-color: #3B4455;\n",
              "      fill: #D2E3FC;\n",
              "    }\n",
              "\n",
              "    [theme=dark] .colab-df-convert:hover {\n",
              "      background-color: #434B5C;\n",
              "      box-shadow: 0px 1px 3px 1px rgba(0, 0, 0, 0.15);\n",
              "      filter: drop-shadow(0px 1px 2px rgba(0, 0, 0, 0.3));\n",
              "      fill: #FFFFFF;\n",
              "    }\n",
              "  </style>\n",
              "\n",
              "      <script>\n",
              "        const buttonEl =\n",
              "          document.querySelector('#df-c57d96a2-e010-4e34-8eee-4b424582a616 button.colab-df-convert');\n",
              "        buttonEl.style.display =\n",
              "          google.colab.kernel.accessAllowed ? 'block' : 'none';\n",
              "\n",
              "        async function convertToInteractive(key) {\n",
              "          const element = document.querySelector('#df-c57d96a2-e010-4e34-8eee-4b424582a616');\n",
              "          const dataTable =\n",
              "            await google.colab.kernel.invokeFunction('convertToInteractive',\n",
              "                                                     [key], {});\n",
              "          if (!dataTable) return;\n",
              "\n",
              "          const docLinkHtml = 'Like what you see? Visit the ' +\n",
              "            '<a target=\"_blank\" href=https://colab.research.google.com/notebooks/data_table.ipynb>data table notebook</a>'\n",
              "            + ' to learn more about interactive tables.';\n",
              "          element.innerHTML = '';\n",
              "          dataTable['output_type'] = 'display_data';\n",
              "          await google.colab.output.renderOutput(dataTable, element);\n",
              "          const docLink = document.createElement('div');\n",
              "          docLink.innerHTML = docLinkHtml;\n",
              "          element.appendChild(docLink);\n",
              "        }\n",
              "      </script>\n",
              "    </div>\n",
              "  </div>\n",
              "  "
            ]
          },
          "metadata": {},
          "execution_count": 8
        }
      ],
      "source": [
        "df"
      ]
    },
    {
      "cell_type": "code",
      "execution_count": 9,
      "metadata": {
        "id": "UAoZE8YBr5uF"
      },
      "outputs": [],
      "source": [
        "df.columns = [*df.columns[:-3], 'pitch', 'yaw', 'roll']"
      ]
    },
    {
      "cell_type": "code",
      "execution_count": 10,
      "metadata": {
        "colab": {
          "base_uri": "https://localhost:8080/",
          "height": 300
        },
        "id": "x3GgY9zZsWgk",
        "outputId": "e8a41b4f-fa2c-4063-d405-e7494b391e40"
      },
      "outputs": [
        {
          "output_type": "execute_result",
          "data": {
            "text/plain": [
              "          0         1         2         3         4         5         6  \\\n",
              "0  0.448754  0.656890  0.418689  0.590842  0.444155  0.615272  0.414519   \n",
              "1  0.524299  0.654976  0.556138  0.608479  0.532756  0.621761  0.540172   \n",
              "2  0.481340  0.702374  0.479999  0.616802  0.487799  0.643953  0.474284   \n",
              "3  0.519243  0.663119  0.549312  0.604009  0.530375  0.622777  0.540996   \n",
              "4  0.524361  0.717719  0.516385  0.635057  0.520145  0.655488  0.489452   \n",
              "\n",
              "          7         8         9  ...       929       930       931       932  \\\n",
              "0  0.540589  0.414397  0.572191  ...  0.497754  0.476211  0.500643  0.576674   \n",
              "1  0.552551  0.560312  0.592039  ...  0.512836  0.550949  0.516380  0.606670   \n",
              "2  0.539957  0.481149  0.592342  ...  0.492416  0.554461  0.495673  0.699269   \n",
              "3  0.542414  0.555569  0.585744  ...  0.516019  0.572935  0.517553  0.654161   \n",
              "4  0.541296  0.514494  0.608619  ...  0.462973  0.559919  0.470022  0.714684   \n",
              "\n",
              "        933       934       935     pitch       yaw      roll  \n",
              "0  0.466314  0.588206  0.456244  0.171752  0.636963 -0.122694  \n",
              "1  0.504229  0.612946  0.497414 -0.131739 -0.516555  0.183045  \n",
              "2  0.480261  0.713179  0.468795  0.125778  0.136994  0.078335  \n",
              "3  0.526009  0.662894  0.521066 -0.015460 -0.340136  0.215889  \n",
              "4  0.435729  0.728277  0.420972 -0.132246  0.133910 -0.000346  \n",
              "\n",
              "[5 rows x 939 columns]"
            ],
            "text/html": [
              "\n",
              "  <div id=\"df-b33ca29d-648c-45c2-8b0a-c1cbc10309a8\">\n",
              "    <div class=\"colab-df-container\">\n",
              "      <div>\n",
              "<style scoped>\n",
              "    .dataframe tbody tr th:only-of-type {\n",
              "        vertical-align: middle;\n",
              "    }\n",
              "\n",
              "    .dataframe tbody tr th {\n",
              "        vertical-align: top;\n",
              "    }\n",
              "\n",
              "    .dataframe thead th {\n",
              "        text-align: right;\n",
              "    }\n",
              "</style>\n",
              "<table border=\"1\" class=\"dataframe\">\n",
              "  <thead>\n",
              "    <tr style=\"text-align: right;\">\n",
              "      <th></th>\n",
              "      <th>0</th>\n",
              "      <th>1</th>\n",
              "      <th>2</th>\n",
              "      <th>3</th>\n",
              "      <th>4</th>\n",
              "      <th>5</th>\n",
              "      <th>6</th>\n",
              "      <th>7</th>\n",
              "      <th>8</th>\n",
              "      <th>9</th>\n",
              "      <th>...</th>\n",
              "      <th>929</th>\n",
              "      <th>930</th>\n",
              "      <th>931</th>\n",
              "      <th>932</th>\n",
              "      <th>933</th>\n",
              "      <th>934</th>\n",
              "      <th>935</th>\n",
              "      <th>pitch</th>\n",
              "      <th>yaw</th>\n",
              "      <th>roll</th>\n",
              "    </tr>\n",
              "  </thead>\n",
              "  <tbody>\n",
              "    <tr>\n",
              "      <th>0</th>\n",
              "      <td>0.448754</td>\n",
              "      <td>0.656890</td>\n",
              "      <td>0.418689</td>\n",
              "      <td>0.590842</td>\n",
              "      <td>0.444155</td>\n",
              "      <td>0.615272</td>\n",
              "      <td>0.414519</td>\n",
              "      <td>0.540589</td>\n",
              "      <td>0.414397</td>\n",
              "      <td>0.572191</td>\n",
              "      <td>...</td>\n",
              "      <td>0.497754</td>\n",
              "      <td>0.476211</td>\n",
              "      <td>0.500643</td>\n",
              "      <td>0.576674</td>\n",
              "      <td>0.466314</td>\n",
              "      <td>0.588206</td>\n",
              "      <td>0.456244</td>\n",
              "      <td>0.171752</td>\n",
              "      <td>0.636963</td>\n",
              "      <td>-0.122694</td>\n",
              "    </tr>\n",
              "    <tr>\n",
              "      <th>1</th>\n",
              "      <td>0.524299</td>\n",
              "      <td>0.654976</td>\n",
              "      <td>0.556138</td>\n",
              "      <td>0.608479</td>\n",
              "      <td>0.532756</td>\n",
              "      <td>0.621761</td>\n",
              "      <td>0.540172</td>\n",
              "      <td>0.552551</td>\n",
              "      <td>0.560312</td>\n",
              "      <td>0.592039</td>\n",
              "      <td>...</td>\n",
              "      <td>0.512836</td>\n",
              "      <td>0.550949</td>\n",
              "      <td>0.516380</td>\n",
              "      <td>0.606670</td>\n",
              "      <td>0.504229</td>\n",
              "      <td>0.612946</td>\n",
              "      <td>0.497414</td>\n",
              "      <td>-0.131739</td>\n",
              "      <td>-0.516555</td>\n",
              "      <td>0.183045</td>\n",
              "    </tr>\n",
              "    <tr>\n",
              "      <th>2</th>\n",
              "      <td>0.481340</td>\n",
              "      <td>0.702374</td>\n",
              "      <td>0.479999</td>\n",
              "      <td>0.616802</td>\n",
              "      <td>0.487799</td>\n",
              "      <td>0.643953</td>\n",
              "      <td>0.474284</td>\n",
              "      <td>0.539957</td>\n",
              "      <td>0.481149</td>\n",
              "      <td>0.592342</td>\n",
              "      <td>...</td>\n",
              "      <td>0.492416</td>\n",
              "      <td>0.554461</td>\n",
              "      <td>0.495673</td>\n",
              "      <td>0.699269</td>\n",
              "      <td>0.480261</td>\n",
              "      <td>0.713179</td>\n",
              "      <td>0.468795</td>\n",
              "      <td>0.125778</td>\n",
              "      <td>0.136994</td>\n",
              "      <td>0.078335</td>\n",
              "    </tr>\n",
              "    <tr>\n",
              "      <th>3</th>\n",
              "      <td>0.519243</td>\n",
              "      <td>0.663119</td>\n",
              "      <td>0.549312</td>\n",
              "      <td>0.604009</td>\n",
              "      <td>0.530375</td>\n",
              "      <td>0.622777</td>\n",
              "      <td>0.540996</td>\n",
              "      <td>0.542414</td>\n",
              "      <td>0.555569</td>\n",
              "      <td>0.585744</td>\n",
              "      <td>...</td>\n",
              "      <td>0.516019</td>\n",
              "      <td>0.572935</td>\n",
              "      <td>0.517553</td>\n",
              "      <td>0.654161</td>\n",
              "      <td>0.526009</td>\n",
              "      <td>0.662894</td>\n",
              "      <td>0.521066</td>\n",
              "      <td>-0.015460</td>\n",
              "      <td>-0.340136</td>\n",
              "      <td>0.215889</td>\n",
              "    </tr>\n",
              "    <tr>\n",
              "      <th>4</th>\n",
              "      <td>0.524361</td>\n",
              "      <td>0.717719</td>\n",
              "      <td>0.516385</td>\n",
              "      <td>0.635057</td>\n",
              "      <td>0.520145</td>\n",
              "      <td>0.655488</td>\n",
              "      <td>0.489452</td>\n",
              "      <td>0.541296</td>\n",
              "      <td>0.514494</td>\n",
              "      <td>0.608619</td>\n",
              "      <td>...</td>\n",
              "      <td>0.462973</td>\n",
              "      <td>0.559919</td>\n",
              "      <td>0.470022</td>\n",
              "      <td>0.714684</td>\n",
              "      <td>0.435729</td>\n",
              "      <td>0.728277</td>\n",
              "      <td>0.420972</td>\n",
              "      <td>-0.132246</td>\n",
              "      <td>0.133910</td>\n",
              "      <td>-0.000346</td>\n",
              "    </tr>\n",
              "  </tbody>\n",
              "</table>\n",
              "<p>5 rows × 939 columns</p>\n",
              "</div>\n",
              "      <button class=\"colab-df-convert\" onclick=\"convertToInteractive('df-b33ca29d-648c-45c2-8b0a-c1cbc10309a8')\"\n",
              "              title=\"Convert this dataframe to an interactive table.\"\n",
              "              style=\"display:none;\">\n",
              "        \n",
              "  <svg xmlns=\"http://www.w3.org/2000/svg\" height=\"24px\"viewBox=\"0 0 24 24\"\n",
              "       width=\"24px\">\n",
              "    <path d=\"M0 0h24v24H0V0z\" fill=\"none\"/>\n",
              "    <path d=\"M18.56 5.44l.94 2.06.94-2.06 2.06-.94-2.06-.94-.94-2.06-.94 2.06-2.06.94zm-11 1L8.5 8.5l.94-2.06 2.06-.94-2.06-.94L8.5 2.5l-.94 2.06-2.06.94zm10 10l.94 2.06.94-2.06 2.06-.94-2.06-.94-.94-2.06-.94 2.06-2.06.94z\"/><path d=\"M17.41 7.96l-1.37-1.37c-.4-.4-.92-.59-1.43-.59-.52 0-1.04.2-1.43.59L10.3 9.45l-7.72 7.72c-.78.78-.78 2.05 0 2.83L4 21.41c.39.39.9.59 1.41.59.51 0 1.02-.2 1.41-.59l7.78-7.78 2.81-2.81c.8-.78.8-2.07 0-2.86zM5.41 20L4 18.59l7.72-7.72 1.47 1.35L5.41 20z\"/>\n",
              "  </svg>\n",
              "      </button>\n",
              "      \n",
              "  <style>\n",
              "    .colab-df-container {\n",
              "      display:flex;\n",
              "      flex-wrap:wrap;\n",
              "      gap: 12px;\n",
              "    }\n",
              "\n",
              "    .colab-df-convert {\n",
              "      background-color: #E8F0FE;\n",
              "      border: none;\n",
              "      border-radius: 50%;\n",
              "      cursor: pointer;\n",
              "      display: none;\n",
              "      fill: #1967D2;\n",
              "      height: 32px;\n",
              "      padding: 0 0 0 0;\n",
              "      width: 32px;\n",
              "    }\n",
              "\n",
              "    .colab-df-convert:hover {\n",
              "      background-color: #E2EBFA;\n",
              "      box-shadow: 0px 1px 2px rgba(60, 64, 67, 0.3), 0px 1px 3px 1px rgba(60, 64, 67, 0.15);\n",
              "      fill: #174EA6;\n",
              "    }\n",
              "\n",
              "    [theme=dark] .colab-df-convert {\n",
              "      background-color: #3B4455;\n",
              "      fill: #D2E3FC;\n",
              "    }\n",
              "\n",
              "    [theme=dark] .colab-df-convert:hover {\n",
              "      background-color: #434B5C;\n",
              "      box-shadow: 0px 1px 3px 1px rgba(0, 0, 0, 0.15);\n",
              "      filter: drop-shadow(0px 1px 2px rgba(0, 0, 0, 0.3));\n",
              "      fill: #FFFFFF;\n",
              "    }\n",
              "  </style>\n",
              "\n",
              "      <script>\n",
              "        const buttonEl =\n",
              "          document.querySelector('#df-b33ca29d-648c-45c2-8b0a-c1cbc10309a8 button.colab-df-convert');\n",
              "        buttonEl.style.display =\n",
              "          google.colab.kernel.accessAllowed ? 'block' : 'none';\n",
              "\n",
              "        async function convertToInteractive(key) {\n",
              "          const element = document.querySelector('#df-b33ca29d-648c-45c2-8b0a-c1cbc10309a8');\n",
              "          const dataTable =\n",
              "            await google.colab.kernel.invokeFunction('convertToInteractive',\n",
              "                                                     [key], {});\n",
              "          if (!dataTable) return;\n",
              "\n",
              "          const docLinkHtml = 'Like what you see? Visit the ' +\n",
              "            '<a target=\"_blank\" href=https://colab.research.google.com/notebooks/data_table.ipynb>data table notebook</a>'\n",
              "            + ' to learn more about interactive tables.';\n",
              "          element.innerHTML = '';\n",
              "          dataTable['output_type'] = 'display_data';\n",
              "          await google.colab.output.renderOutput(dataTable, element);\n",
              "          const docLink = document.createElement('div');\n",
              "          docLink.innerHTML = docLinkHtml;\n",
              "          element.appendChild(docLink);\n",
              "        }\n",
              "      </script>\n",
              "    </div>\n",
              "  </div>\n",
              "  "
            ]
          },
          "metadata": {},
          "execution_count": 10
        }
      ],
      "source": [
        "df.head()"
      ]
    },
    {
      "cell_type": "code",
      "execution_count": 11,
      "metadata": {
        "id": "BxCHXG3HAQHl"
      },
      "outputs": [],
      "source": [
        "def sub_preproc(df, landmark_no):\n",
        "  # x, and y columns for landmark with given formula\n",
        "  pivot_x = landmark_no + (landmark_no - 2)\n",
        "  pivot_y = pivot_x + 1\n",
        "\n",
        "  # get x and y column labels\n",
        "  all_x_corr = [i for i in df.columns[:-3] if i % 2== 0]\n",
        "  all_y_corr = [i for i in range(1, df.shape[1] - 3, 2)]\n",
        "  \n",
        "  all_x_corr.remove(pivot_x)\n",
        "  all_y_corr.remove(pivot_y)\n",
        "  # subtract pivot column from each row using broadcasting\n",
        "  df.loc[:, all_x_corr] = df.loc[:, all_x_corr].values - df.loc[:, pivot_x].values.reshape(df.shape[0], 1)\n",
        "  df.loc[:, all_y_corr] = df.loc[:, all_y_corr].values - df.loc[:, pivot_y].values.reshape(df.shape[0], 1)\n",
        "\n",
        "  # return df\n",
        "\n",
        "  \n"
      ]
    },
    {
      "cell_type": "code",
      "execution_count": 12,
      "metadata": {
        "id": "k30iFYP8IgEC"
      },
      "outputs": [],
      "source": [
        "df_clean = df.copy()"
      ]
    },
    {
      "cell_type": "code",
      "execution_count": 13,
      "metadata": {
        "id": "f9lgblUlKkme"
      },
      "outputs": [],
      "source": [
        "sub_preproc(df_clean, 6);"
      ]
    },
    {
      "cell_type": "code",
      "execution_count": 14,
      "metadata": {
        "colab": {
          "base_uri": "https://localhost:8080/",
          "height": 300
        },
        "id": "MPC9OSwHVyjT",
        "outputId": "f35ea68e-74a2-4e7b-e1b7-af248832952c"
      },
      "outputs": [
        {
          "output_type": "execute_result",
          "data": {
            "text/plain": [
              "          0         1         2         3         4         5         6  \\\n",
              "0  0.030490  0.106009  0.000424  0.039961  0.025890  0.064391 -0.003746   \n",
              "1 -0.033460  0.084970 -0.001621  0.038473 -0.025003  0.051755 -0.017587   \n",
              "2 -0.005692  0.140417 -0.007032  0.054844  0.000767  0.081996 -0.012747   \n",
              "3 -0.038496  0.100765 -0.008428  0.041654 -0.027365  0.060422 -0.016743   \n",
              "4  0.011489  0.147070  0.003514  0.064407  0.007274  0.084839 -0.023419   \n",
              "\n",
              "          7         8         9  ...       929       930       931       932  \\\n",
              "0 -0.010292 -0.003867  0.021310  ... -0.053127  0.057946 -0.050238  0.158410   \n",
              "1 -0.017455  0.002553  0.022033  ... -0.057169 -0.006810 -0.053625  0.048911   \n",
              "2 -0.022000 -0.005882  0.030385  ... -0.069542  0.067429 -0.066284  0.212237   \n",
              "3 -0.019941 -0.002171  0.023390  ... -0.046336  0.015195 -0.044801  0.096421   \n",
              "4 -0.029353  0.001622  0.037970  ... -0.107677  0.047047 -0.100627  0.201812   \n",
              "\n",
              "        933       934       935     pitch       yaw      roll  \n",
              "0 -0.084567  0.169941 -0.094637  0.171752  0.636963 -0.122694  \n",
              "1 -0.065777  0.055187 -0.072592 -0.131739 -0.516555  0.183045  \n",
              "2 -0.081697  0.226147 -0.093163  0.125778  0.136994  0.078335  \n",
              "3 -0.036345  0.105154 -0.041288 -0.015460 -0.340136  0.215889  \n",
              "4 -0.134921  0.215405 -0.149677 -0.132246  0.133910 -0.000346  \n",
              "\n",
              "[5 rows x 939 columns]"
            ],
            "text/html": [
              "\n",
              "  <div id=\"df-b617436e-52ef-4e59-ab4a-8f22d5a878e0\">\n",
              "    <div class=\"colab-df-container\">\n",
              "      <div>\n",
              "<style scoped>\n",
              "    .dataframe tbody tr th:only-of-type {\n",
              "        vertical-align: middle;\n",
              "    }\n",
              "\n",
              "    .dataframe tbody tr th {\n",
              "        vertical-align: top;\n",
              "    }\n",
              "\n",
              "    .dataframe thead th {\n",
              "        text-align: right;\n",
              "    }\n",
              "</style>\n",
              "<table border=\"1\" class=\"dataframe\">\n",
              "  <thead>\n",
              "    <tr style=\"text-align: right;\">\n",
              "      <th></th>\n",
              "      <th>0</th>\n",
              "      <th>1</th>\n",
              "      <th>2</th>\n",
              "      <th>3</th>\n",
              "      <th>4</th>\n",
              "      <th>5</th>\n",
              "      <th>6</th>\n",
              "      <th>7</th>\n",
              "      <th>8</th>\n",
              "      <th>9</th>\n",
              "      <th>...</th>\n",
              "      <th>929</th>\n",
              "      <th>930</th>\n",
              "      <th>931</th>\n",
              "      <th>932</th>\n",
              "      <th>933</th>\n",
              "      <th>934</th>\n",
              "      <th>935</th>\n",
              "      <th>pitch</th>\n",
              "      <th>yaw</th>\n",
              "      <th>roll</th>\n",
              "    </tr>\n",
              "  </thead>\n",
              "  <tbody>\n",
              "    <tr>\n",
              "      <th>0</th>\n",
              "      <td>0.030490</td>\n",
              "      <td>0.106009</td>\n",
              "      <td>0.000424</td>\n",
              "      <td>0.039961</td>\n",
              "      <td>0.025890</td>\n",
              "      <td>0.064391</td>\n",
              "      <td>-0.003746</td>\n",
              "      <td>-0.010292</td>\n",
              "      <td>-0.003867</td>\n",
              "      <td>0.021310</td>\n",
              "      <td>...</td>\n",
              "      <td>-0.053127</td>\n",
              "      <td>0.057946</td>\n",
              "      <td>-0.050238</td>\n",
              "      <td>0.158410</td>\n",
              "      <td>-0.084567</td>\n",
              "      <td>0.169941</td>\n",
              "      <td>-0.094637</td>\n",
              "      <td>0.171752</td>\n",
              "      <td>0.636963</td>\n",
              "      <td>-0.122694</td>\n",
              "    </tr>\n",
              "    <tr>\n",
              "      <th>1</th>\n",
              "      <td>-0.033460</td>\n",
              "      <td>0.084970</td>\n",
              "      <td>-0.001621</td>\n",
              "      <td>0.038473</td>\n",
              "      <td>-0.025003</td>\n",
              "      <td>0.051755</td>\n",
              "      <td>-0.017587</td>\n",
              "      <td>-0.017455</td>\n",
              "      <td>0.002553</td>\n",
              "      <td>0.022033</td>\n",
              "      <td>...</td>\n",
              "      <td>-0.057169</td>\n",
              "      <td>-0.006810</td>\n",
              "      <td>-0.053625</td>\n",
              "      <td>0.048911</td>\n",
              "      <td>-0.065777</td>\n",
              "      <td>0.055187</td>\n",
              "      <td>-0.072592</td>\n",
              "      <td>-0.131739</td>\n",
              "      <td>-0.516555</td>\n",
              "      <td>0.183045</td>\n",
              "    </tr>\n",
              "    <tr>\n",
              "      <th>2</th>\n",
              "      <td>-0.005692</td>\n",
              "      <td>0.140417</td>\n",
              "      <td>-0.007032</td>\n",
              "      <td>0.054844</td>\n",
              "      <td>0.000767</td>\n",
              "      <td>0.081996</td>\n",
              "      <td>-0.012747</td>\n",
              "      <td>-0.022000</td>\n",
              "      <td>-0.005882</td>\n",
              "      <td>0.030385</td>\n",
              "      <td>...</td>\n",
              "      <td>-0.069542</td>\n",
              "      <td>0.067429</td>\n",
              "      <td>-0.066284</td>\n",
              "      <td>0.212237</td>\n",
              "      <td>-0.081697</td>\n",
              "      <td>0.226147</td>\n",
              "      <td>-0.093163</td>\n",
              "      <td>0.125778</td>\n",
              "      <td>0.136994</td>\n",
              "      <td>0.078335</td>\n",
              "    </tr>\n",
              "    <tr>\n",
              "      <th>3</th>\n",
              "      <td>-0.038496</td>\n",
              "      <td>0.100765</td>\n",
              "      <td>-0.008428</td>\n",
              "      <td>0.041654</td>\n",
              "      <td>-0.027365</td>\n",
              "      <td>0.060422</td>\n",
              "      <td>-0.016743</td>\n",
              "      <td>-0.019941</td>\n",
              "      <td>-0.002171</td>\n",
              "      <td>0.023390</td>\n",
              "      <td>...</td>\n",
              "      <td>-0.046336</td>\n",
              "      <td>0.015195</td>\n",
              "      <td>-0.044801</td>\n",
              "      <td>0.096421</td>\n",
              "      <td>-0.036345</td>\n",
              "      <td>0.105154</td>\n",
              "      <td>-0.041288</td>\n",
              "      <td>-0.015460</td>\n",
              "      <td>-0.340136</td>\n",
              "      <td>0.215889</td>\n",
              "    </tr>\n",
              "    <tr>\n",
              "      <th>4</th>\n",
              "      <td>0.011489</td>\n",
              "      <td>0.147070</td>\n",
              "      <td>0.003514</td>\n",
              "      <td>0.064407</td>\n",
              "      <td>0.007274</td>\n",
              "      <td>0.084839</td>\n",
              "      <td>-0.023419</td>\n",
              "      <td>-0.029353</td>\n",
              "      <td>0.001622</td>\n",
              "      <td>0.037970</td>\n",
              "      <td>...</td>\n",
              "      <td>-0.107677</td>\n",
              "      <td>0.047047</td>\n",
              "      <td>-0.100627</td>\n",
              "      <td>0.201812</td>\n",
              "      <td>-0.134921</td>\n",
              "      <td>0.215405</td>\n",
              "      <td>-0.149677</td>\n",
              "      <td>-0.132246</td>\n",
              "      <td>0.133910</td>\n",
              "      <td>-0.000346</td>\n",
              "    </tr>\n",
              "  </tbody>\n",
              "</table>\n",
              "<p>5 rows × 939 columns</p>\n",
              "</div>\n",
              "      <button class=\"colab-df-convert\" onclick=\"convertToInteractive('df-b617436e-52ef-4e59-ab4a-8f22d5a878e0')\"\n",
              "              title=\"Convert this dataframe to an interactive table.\"\n",
              "              style=\"display:none;\">\n",
              "        \n",
              "  <svg xmlns=\"http://www.w3.org/2000/svg\" height=\"24px\"viewBox=\"0 0 24 24\"\n",
              "       width=\"24px\">\n",
              "    <path d=\"M0 0h24v24H0V0z\" fill=\"none\"/>\n",
              "    <path d=\"M18.56 5.44l.94 2.06.94-2.06 2.06-.94-2.06-.94-.94-2.06-.94 2.06-2.06.94zm-11 1L8.5 8.5l.94-2.06 2.06-.94-2.06-.94L8.5 2.5l-.94 2.06-2.06.94zm10 10l.94 2.06.94-2.06 2.06-.94-2.06-.94-.94-2.06-.94 2.06-2.06.94z\"/><path d=\"M17.41 7.96l-1.37-1.37c-.4-.4-.92-.59-1.43-.59-.52 0-1.04.2-1.43.59L10.3 9.45l-7.72 7.72c-.78.78-.78 2.05 0 2.83L4 21.41c.39.39.9.59 1.41.59.51 0 1.02-.2 1.41-.59l7.78-7.78 2.81-2.81c.8-.78.8-2.07 0-2.86zM5.41 20L4 18.59l7.72-7.72 1.47 1.35L5.41 20z\"/>\n",
              "  </svg>\n",
              "      </button>\n",
              "      \n",
              "  <style>\n",
              "    .colab-df-container {\n",
              "      display:flex;\n",
              "      flex-wrap:wrap;\n",
              "      gap: 12px;\n",
              "    }\n",
              "\n",
              "    .colab-df-convert {\n",
              "      background-color: #E8F0FE;\n",
              "      border: none;\n",
              "      border-radius: 50%;\n",
              "      cursor: pointer;\n",
              "      display: none;\n",
              "      fill: #1967D2;\n",
              "      height: 32px;\n",
              "      padding: 0 0 0 0;\n",
              "      width: 32px;\n",
              "    }\n",
              "\n",
              "    .colab-df-convert:hover {\n",
              "      background-color: #E2EBFA;\n",
              "      box-shadow: 0px 1px 2px rgba(60, 64, 67, 0.3), 0px 1px 3px 1px rgba(60, 64, 67, 0.15);\n",
              "      fill: #174EA6;\n",
              "    }\n",
              "\n",
              "    [theme=dark] .colab-df-convert {\n",
              "      background-color: #3B4455;\n",
              "      fill: #D2E3FC;\n",
              "    }\n",
              "\n",
              "    [theme=dark] .colab-df-convert:hover {\n",
              "      background-color: #434B5C;\n",
              "      box-shadow: 0px 1px 3px 1px rgba(0, 0, 0, 0.15);\n",
              "      filter: drop-shadow(0px 1px 2px rgba(0, 0, 0, 0.3));\n",
              "      fill: #FFFFFF;\n",
              "    }\n",
              "  </style>\n",
              "\n",
              "      <script>\n",
              "        const buttonEl =\n",
              "          document.querySelector('#df-b617436e-52ef-4e59-ab4a-8f22d5a878e0 button.colab-df-convert');\n",
              "        buttonEl.style.display =\n",
              "          google.colab.kernel.accessAllowed ? 'block' : 'none';\n",
              "\n",
              "        async function convertToInteractive(key) {\n",
              "          const element = document.querySelector('#df-b617436e-52ef-4e59-ab4a-8f22d5a878e0');\n",
              "          const dataTable =\n",
              "            await google.colab.kernel.invokeFunction('convertToInteractive',\n",
              "                                                     [key], {});\n",
              "          if (!dataTable) return;\n",
              "\n",
              "          const docLinkHtml = 'Like what you see? Visit the ' +\n",
              "            '<a target=\"_blank\" href=https://colab.research.google.com/notebooks/data_table.ipynb>data table notebook</a>'\n",
              "            + ' to learn more about interactive tables.';\n",
              "          element.innerHTML = '';\n",
              "          dataTable['output_type'] = 'display_data';\n",
              "          await google.colab.output.renderOutput(dataTable, element);\n",
              "          const docLink = document.createElement('div');\n",
              "          docLink.innerHTML = docLinkHtml;\n",
              "          element.appendChild(docLink);\n",
              "        }\n",
              "      </script>\n",
              "    </div>\n",
              "  </div>\n",
              "  "
            ]
          },
          "metadata": {},
          "execution_count": 14
        }
      ],
      "source": [
        "df_clean.head()"
      ]
    },
    {
      "cell_type": "code",
      "execution_count": 15,
      "metadata": {
        "id": "nuCNrj9_W34z"
      },
      "outputs": [],
      "source": [
        "x = df_clean.loc[:, df_clean.columns[:-3]]\n",
        "y = df_clean.loc[:, df_clean.columns[-3:]]"
      ]
    },
    {
      "cell_type": "code",
      "source": [
        "'''# choosing landmark of nose\n",
        "random_file = 'image00053'\n",
        "\n",
        "faceModule = mediapipe.solutions.face_mesh\n",
        "# loading image and its correspinding mat file\n",
        "with faceModule.FaceMesh(static_image_mode=True) as faces:\n",
        "    # loading the image\n",
        "    image = cv2.imread('/content/AFLW2000/'+random_file+'.jpg')\n",
        "    # processing the face to extract the landmark points (468 point) for each x,y,z\n",
        "    results = faces.process(cv2.cvtColor(image, cv2.COLOR_BGR2RGB))\n",
        "    if results.multi_face_landmarks != None: \n",
        "      # looping over the faces in the image\n",
        "      for face in results.multi_face_landmarks:\n",
        "          for landmark in face.landmark:\n",
        "              x = landmark.x\n",
        "              y = landmark.y\n",
        "              #print(x)\n",
        "              # note: the x and y values are scaled to the their width and height so we will get back their actual value in the image\n",
        "              shape = image.shape \n",
        "              relative_x = int(x * shape[1])\n",
        "              relative_y = int(y * shape[0])\n",
        "              # cv2.putText(image, str(relative_y), (int(relative_x),int(relative_y)), cv2.FONT_HERSHEY_SIMPLEX, 0.4, (0,255,0), 2)\n",
        "              cv2.circle(image, (relative_x, relative_y), radius=1, color=(0, 255, 0), thickness=2)\n",
        "              #input()\n",
        "              time.sleep(2.4)\n",
        "              cv2_imshow(image)'''"
      ],
      "metadata": {
        "colab": {
          "base_uri": "https://localhost:8080/",
          "height": 143
        },
        "id": "aspHcDWh2Yye",
        "outputId": "0b80b75b-1135-4151-b252-b9f1b57f6d52"
      },
      "execution_count": 16,
      "outputs": [
        {
          "output_type": "execute_result",
          "data": {
            "text/plain": [
              "\"# choosing landmark of nose\\nrandom_file = 'image00053'\\n\\nfaceModule = mediapipe.solutions.face_mesh\\n# loading image and its correspinding mat file\\nwith faceModule.FaceMesh(static_image_mode=True) as faces:\\n    # loading the image\\n    image = cv2.imread('/content/AFLW2000/'+random_file+'.jpg')\\n    # processing the face to extract the landmark points (468 point) for each x,y,z\\n    results = faces.process(cv2.cvtColor(image, cv2.COLOR_BGR2RGB))\\n    if results.multi_face_landmarks != None: \\n      # looping over the faces in the image\\n      for face in results.multi_face_landmarks:\\n          for landmark in face.landmark:\\n              x = landmark.x\\n              y = landmark.y\\n              #print(x)\\n              # note: the x and y values are scaled to the their width and height so we will get back their actual value in the image\\n              shape = image.shape \\n              relative_x = int(x * shape[1])\\n              relative_y = int(y * shape[0])\\n              # cv2.putText(image, str(relative_y), (int(relative_x),int(relative_y)), cv2.FONT_HERSHEY_SIMPLEX, 0.4, (0,255,0), 2)\\n              cv2.circle(image, (relative_x, relative_y), radius=1, color=(0, 255, 0), thickness=2)\\n              #input()\\n              time.sleep(2.4)\\n              cv2_imshow(image)\""
            ],
            "application/vnd.google.colaboratory.intrinsic+json": {
              "type": "string"
            }
          },
          "metadata": {},
          "execution_count": 16
        }
      ]
    },
    {
      "cell_type": "markdown",
      "source": [
        "# **Model Training**"
      ],
      "metadata": {
        "id": "fVtgruYgXCv0"
      }
    },
    {
      "cell_type": "code",
      "source": [
        "from sklearn.model_selection import GridSearchCV\n",
        "from sklearn.svm import SVR\n",
        "from sklearn.metrics import r2_score\n",
        "import joblib\n",
        "from sklearn.ensemble import RandomForestRegressor\n",
        "from sklearn.model_selection import train_test_split"
      ],
      "metadata": {
        "id": "X-Bigyc_LDFW"
      },
      "execution_count": 40,
      "outputs": []
    },
    {
      "cell_type": "code",
      "source": [
        "\n",
        "X_train, X_test, y_train, y_test = train_test_split(x, y, test_size=0.05, random_state=42)"
      ],
      "metadata": {
        "id": "-Yg_pLp0WnoV"
      },
      "execution_count": 55,
      "outputs": []
    },
    {
      "cell_type": "code",
      "source": [
        "# divide labels for three models\n",
        "yaw_train = y_train['yaw']\n",
        "roll_train = y_train['roll']\n",
        "pitch_train = y_train['pitch']\n",
        "\n",
        "yaw_test = y_test['yaw']\n",
        "roll_test = y_test['roll']\n",
        "pitch_test = y_test['pitch']\n",
        "\n"
      ],
      "metadata": {
        "id": "W9kbx9kgXccG"
      },
      "execution_count": 56,
      "outputs": []
    },
    {
      "cell_type": "code",
      "source": [
        "def grid_eval(model, x_test, y_test):\n",
        "  print(\"best parameters for model:\", model.best_params_)\n",
        "  print(\"best score :\", model.best_score_)\n",
        "  print(\"r2 score on test set:\", r2_score(y_test, model.predict(x_test)))\n",
        "  # or model.score(x_test, y_test)\n"
      ],
      "metadata": {
        "id": "b5WgfOTBla93"
      },
      "execution_count": 38,
      "outputs": []
    },
    {
      "cell_type": "code",
      "source": [
        "'''0.0001 < gamma < 10\n",
        "\n",
        "0.1 < c < 100\n",
        "'''\n",
        "## 'epsilon':[0.1,0.2,0.5,0.3]\n",
        "parameters = {'kernel': ['rbf'], 'C': [0.1, 1, 10, 100, 1000],'gamma': [0.0001, 0.001, 0.01, 0.1, 1, 10], 'epsilon':[0.1,0.2,0.5,0.3]}\n",
        "# , scoring = ''  ‘r2’   ‘neg_mean_squared_error’\n",
        "\n",
        "# using default scorer for sklearn : r2 score\n",
        "# param_grid = parameters\n",
        "yaw_model = GridSearchCV(SVR(), parameters, cv= 5 , n_jobs=-1)\n",
        "pitch_model = GridSearchCV(SVR(), parameters, cv= 5 , n_jobs=-1)\n",
        "roll_model = GridSearchCV(SVR(), parameters, cv= 5 , n_jobs=-1)"
      ],
      "metadata": {
        "id": "bVFVUEBkaoAv"
      },
      "execution_count": 59,
      "outputs": []
    },
    {
      "cell_type": "code",
      "source": [
        "yaw_model.fit(X_train, yaw_train)"
      ],
      "metadata": {
        "id": "97NRNyCHGo-o"
      },
      "execution_count": null,
      "outputs": []
    },
    {
      "cell_type": "code",
      "source": [
        "grid_eval(yaw_model, X_test, yaw_test)"
      ],
      "metadata": {
        "colab": {
          "base_uri": "https://localhost:8080/"
        },
        "id": "QkUQP4rk9-WM",
        "outputId": "b7e3420c-39bd-4a77-c997-9d2a6359369c"
      },
      "execution_count": 58,
      "outputs": [
        {
          "output_type": "stream",
          "name": "stdout",
          "text": [
            "best parameters for model: {'C': 100, 'gamma': 0.01, 'kernel': 'rbf'}\n",
            "best score : 0.9231467990775215\n",
            "r2 score on test set: 0.8693467279799163\n"
          ]
        }
      ]
    },
    {
      "cell_type": "code",
      "source": [
        "yaw_model.best_params_"
      ],
      "metadata": {
        "colab": {
          "base_uri": "https://localhost:8080/"
        },
        "id": "c9b2VTxUpkwS",
        "outputId": "df641660-58a4-47f7-b4a6-f3a79abf946c"
      },
      "execution_count": 43,
      "outputs": [
        {
          "output_type": "execute_result",
          "data": {
            "text/plain": [
              "{'C': 100, 'gamma': 0.01, 'kernel': 'rbf'}"
            ]
          },
          "metadata": {},
          "execution_count": 43
        }
      ]
    },
    {
      "cell_type": "code",
      "source": [
        "# saving model\n",
        "joblib.dump(yaw_model, 'yaw.pkl')"
      ],
      "metadata": {
        "colab": {
          "base_uri": "https://localhost:8080/"
        },
        "id": "5MFstMuV5E1j",
        "outputId": "c1813b23-e20d-436e-86de-cf0902f920be"
      },
      "execution_count": 28,
      "outputs": [
        {
          "output_type": "execute_result",
          "data": {
            "text/plain": [
              "['yaw.pkl']"
            ]
          },
          "metadata": {},
          "execution_count": 28
        }
      ]
    },
    {
      "cell_type": "code",
      "source": [
        "# train pitch model"
      ],
      "metadata": {
        "id": "VnnrZbt45Dai"
      },
      "execution_count": 29,
      "outputs": []
    },
    {
      "cell_type": "code",
      "source": [
        "pitch_model.fit(X_train, pitch_train)"
      ],
      "metadata": {
        "id": "9SI3caPqmGcs",
        "colab": {
          "base_uri": "https://localhost:8080/"
        },
        "outputId": "dcb13e41-2dbf-42ff-817f-9418976d15fc"
      },
      "execution_count": 98,
      "outputs": [
        {
          "output_type": "execute_result",
          "data": {
            "text/plain": [
              "GridSearchCV(cv=5, estimator=SVR(), n_jobs=-1,\n",
              "             param_grid={'C': [0.1, 1, 10, 100, 1000],\n",
              "                         'epsilon': [0.1, 0.2, 0.5, 0.3],\n",
              "                         'gamma': [0.0001, 0.001, 0.01, 0.1, 1, 10],\n",
              "                         'kernel': ['rbf']})"
            ]
          },
          "metadata": {},
          "execution_count": 98
        }
      ]
    },
    {
      "cell_type": "code",
      "source": [
        "grid_eval(pitch_model, X_test, pitch_test)"
      ],
      "metadata": {
        "colab": {
          "base_uri": "https://localhost:8080/"
        },
        "id": "nB9O6W9fJEEW",
        "outputId": "f458b16a-fd05-4d88-ef0a-bdbdd88e5ba6"
      },
      "execution_count": 57,
      "outputs": [
        {
          "output_type": "stream",
          "name": "stdout",
          "text": [
            "best parameters for model: {'C': 10, 'gamma': 0.1, 'kernel': 'rbf'}\n",
            "best score : 0.5843943740068313\n",
            "r2 score on test set: 0.8201131351689792\n"
          ]
        }
      ]
    },
    {
      "cell_type": "code",
      "source": [
        "pitch_model.best_params_"
      ],
      "metadata": {
        "id": "u8gem_PkmLzE",
        "colab": {
          "base_uri": "https://localhost:8080/"
        },
        "outputId": "aeabf81d-49f8-4307-9f75-3b0eb5c255fb"
      },
      "execution_count": 45,
      "outputs": [
        {
          "output_type": "execute_result",
          "data": {
            "text/plain": [
              "{'C': 10, 'gamma': 0.1, 'kernel': 'rbf'}"
            ]
          },
          "metadata": {},
          "execution_count": 45
        }
      ]
    },
    {
      "cell_type": "code",
      "source": [
        "# train roll model"
      ],
      "metadata": {
        "id": "S0aiN3oT5OPw"
      },
      "execution_count": 37,
      "outputs": []
    },
    {
      "cell_type": "code",
      "source": [
        "roll_model.fit(X_train, roll_train);"
      ],
      "metadata": {
        "id": "HDsP_0IIRcRf"
      },
      "execution_count": null,
      "outputs": []
    },
    {
      "cell_type": "code",
      "source": [
        "roll_model.best_params_"
      ],
      "metadata": {
        "id": "si56x9yOoeci",
        "colab": {
          "base_uri": "https://localhost:8080/"
        },
        "outputId": "c073a540-cbdc-4512-e343-65f6794bd450"
      },
      "execution_count": 46,
      "outputs": [
        {
          "output_type": "execute_result",
          "data": {
            "text/plain": [
              "{'C': 1, 'gamma': 0.1, 'kernel': 'rbf'}"
            ]
          },
          "metadata": {},
          "execution_count": 46
        }
      ]
    },
    {
      "cell_type": "code",
      "source": [
        "grid_eval(roll_model, X_test, roll_test)"
      ],
      "metadata": {
        "id": "gMcupi625P8g",
        "colab": {
          "base_uri": "https://localhost:8080/"
        },
        "outputId": "97a92f90-5d99-41d0-8c65-3fee8ab75ca2"
      },
      "execution_count": 59,
      "outputs": [
        {
          "output_type": "stream",
          "name": "stdout",
          "text": [
            "best parameters for model: {'C': 1, 'gamma': 0.1, 'kernel': 'rbf'}\n",
            "best score : 0.6618646803985677\n",
            "r2 score on test set: 0.8101553904702432\n"
          ]
        }
      ]
    },
    {
      "cell_type": "markdown",
      "source": [
        "### SVR does not give good results with pitch and roll models\n",
        "\n",
        "train on whole dataset as size is small"
      ],
      "metadata": {
        "id": "9ivNlivVAbRz"
      }
    },
    {
      "cell_type": "code",
      "source": [
        "'''from joblib import Parallel, delayed\n",
        "import joblib\n",
        " \n",
        " \n",
        "# Save the model as a pickle in a file\n",
        "joblib.dump(knn, 'filename.pkl')\n",
        " \n",
        "# Load the model from the file\n",
        "knn_from_joblib = joblib.load('filename.pkl')\n",
        " \n",
        "# Use the loaded model to make predictions\n",
        "knn_from_joblib.predict(X_test)'''"
      ],
      "metadata": {
        "id": "oZaDg1D3oesC"
      },
      "execution_count": null,
      "outputs": []
    },
    {
      "cell_type": "markdown",
      "source": [
        "# Train random forest"
      ],
      "metadata": {
        "id": "PxlQU2pCEqHH"
      }
    },
    {
      "cell_type": "code",
      "source": [
        "from sklearn.model_selection import RandomizedSearchCV# Number of trees in random forest\n",
        "n_estimators = [50, 55, 60, 70, 75, 80, 90, 94, 100]\n",
        "# Number of features to consider at every split\n",
        "max_features = ['auto', 'sqrt']\n",
        "# Maximum number of levels in tree\n",
        "# [5, 8, 15, 25, 30]\n",
        "max_depth = [int(x) for x in np.linspace(1, 50, num = 11)]\n",
        "max_depth.append(None)\n",
        "# Minimum number of samples required to split a node\n",
        "min_samples_split = [2, 5, 10, 15, 100]\n",
        "# Minimum number of samples required at each leaf node\n",
        "min_samples_leaf = [1, 2, 5, 10] \n",
        "\n",
        "bootstrap = [True]# Create the random grid\n",
        "random_grid = {'n_estimators': n_estimators,\n",
        "               'max_features': max_features,\n",
        "               'max_depth': max_depth,\n",
        "               'min_samples_split': min_samples_split,\n",
        "               'min_samples_leaf': min_samples_leaf,\n",
        "               'bootstrap': bootstrap}\n",
        "\n",
        "random_grid = {'n_estimators': n_estimators,\n",
        "               'max_features': max_features,\n",
        "               'max_depth': max_depth,\n",
        "               'min_samples_split': min_samples_split,\n",
        "               'min_samples_leaf': min_samples_leaf,\n",
        "               'bootstrap': bootstrap}"
      ],
      "metadata": {
        "id": "XsdNvs5spcWU"
      },
      "execution_count": 30,
      "outputs": []
    },
    {
      "cell_type": "code",
      "source": [
        "rf = RandomForestRegressor()\n",
        "# Random search of parameters, using 3 fold cross validation, \n",
        "# search across 100 different combinations, and use all available cores\n",
        "rf_random = RandomizedSearchCV(estimator = rf, param_distributions = random_grid, cv = 3, random_state=42, n_jobs = -1)# Fit the random search model\n",
        "rf_random.fit(x, y['pitch'])"
      ],
      "metadata": {
        "colab": {
          "base_uri": "https://localhost:8080/"
        },
        "id": "6rmXv-Xvpcce",
        "outputId": "e3d955d5-13af-4576-df15-0dd931d2dea9"
      },
      "execution_count": 31,
      "outputs": [
        {
          "output_type": "execute_result",
          "data": {
            "text/plain": [
              "RandomizedSearchCV(cv=3, estimator=RandomForestRegressor(), n_jobs=-1,\n",
              "                   param_distributions={'bootstrap': [True],\n",
              "                                        'max_depth': [1, 5, 10, 15, 20, 25, 30,\n",
              "                                                      35, 40, 45, 50, None],\n",
              "                                        'max_features': ['auto', 'sqrt'],\n",
              "                                        'min_samples_leaf': [1, 2, 5, 10],\n",
              "                                        'min_samples_split': [2, 5, 10, 15,\n",
              "                                                              100],\n",
              "                                        'n_estimators': [50, 55, 60, 70, 75, 80,\n",
              "                                                         90, 94, 100]},\n",
              "                   random_state=42)"
            ]
          },
          "metadata": {},
          "execution_count": 31
        }
      ]
    },
    {
      "cell_type": "code",
      "source": [
        "rf_random.best_params_"
      ],
      "metadata": {
        "colab": {
          "base_uri": "https://localhost:8080/"
        },
        "id": "nKXeee7YIwqD",
        "outputId": "cdbd91cd-d9f3-4184-c2f3-9250b28f6406"
      },
      "execution_count": 35,
      "outputs": [
        {
          "output_type": "execute_result",
          "data": {
            "text/plain": [
              "{'bootstrap': True,\n",
              " 'max_depth': 50,\n",
              " 'max_features': 'auto',\n",
              " 'min_samples_leaf': 10,\n",
              " 'min_samples_split': 100,\n",
              " 'n_estimators': 55}"
            ]
          },
          "metadata": {},
          "execution_count": 35
        }
      ]
    },
    {
      "cell_type": "code",
      "source": [
        "rf_random.best_score_"
      ],
      "metadata": {
        "colab": {
          "base_uri": "https://localhost:8080/"
        },
        "id": "WHftd1bJI0GS",
        "outputId": "bdb2268d-bea7-4eca-c827-fb69bf536b50"
      },
      "execution_count": 36,
      "outputs": [
        {
          "output_type": "execute_result",
          "data": {
            "text/plain": [
              "0.18905768912396534"
            ]
          },
          "metadata": {},
          "execution_count": 36
        }
      ]
    },
    {
      "cell_type": "markdown",
      "source": [
        "train pitch model"
      ],
      "metadata": {
        "id": "v-OMl1rRIFzG"
      }
    },
    {
      "cell_type": "code",
      "source": [
        "forest_pitch = RandomForestRegressor(n_estimators = 50)\n",
        "forest_pitch.fit(x, y['pitch'])"
      ],
      "metadata": {
        "colab": {
          "base_uri": "https://localhost:8080/"
        },
        "id": "cAOxZ0UlVlhB",
        "outputId": "2522b2dc-ee0e-493e-e177-c3f4924297eb"
      },
      "execution_count": 63,
      "outputs": [
        {
          "output_type": "execute_result",
          "data": {
            "text/plain": [
              "RandomForestRegressor(n_estimators=50)"
            ]
          },
          "metadata": {},
          "execution_count": 63
        }
      ]
    },
    {
      "cell_type": "code",
      "source": [
        "r2_score(y['pitch'], forest_pitch.predict(x))"
      ],
      "metadata": {
        "colab": {
          "base_uri": "https://localhost:8080/"
        },
        "id": "np3CTeTVpchx",
        "outputId": "e0ddfca2-6197-49d6-dbf4-8de78e36dfe7"
      },
      "execution_count": 64,
      "outputs": [
        {
          "output_type": "execute_result",
          "data": {
            "text/plain": [
              "0.8565444283383893"
            ]
          },
          "metadata": {},
          "execution_count": 64
        }
      ]
    },
    {
      "cell_type": "code",
      "source": [
        "forest_pitch.get_params() "
      ],
      "metadata": {
        "colab": {
          "base_uri": "https://localhost:8080/"
        },
        "id": "HQf-3FdWpcoC",
        "outputId": "c438b4fe-9c40-4b49-cb2e-2ca4dfd0b998"
      },
      "execution_count": 124,
      "outputs": [
        {
          "output_type": "execute_result",
          "data": {
            "text/plain": [
              "{'bootstrap': True,\n",
              " 'ccp_alpha': 0.0,\n",
              " 'criterion': 'squared_error',\n",
              " 'max_depth': None,\n",
              " 'max_features': 'auto',\n",
              " 'max_leaf_nodes': None,\n",
              " 'max_samples': None,\n",
              " 'min_impurity_decrease': 0.0,\n",
              " 'min_samples_leaf': 1,\n",
              " 'min_samples_split': 2,\n",
              " 'min_weight_fraction_leaf': 0.0,\n",
              " 'n_estimators': 100,\n",
              " 'n_jobs': None,\n",
              " 'oob_score': False,\n",
              " 'random_state': None,\n",
              " 'verbose': 0,\n",
              " 'warm_start': False}"
            ]
          },
          "metadata": {},
          "execution_count": 124
        }
      ]
    },
    {
      "cell_type": "code",
      "source": [
        "# saving model\n",
        "joblib.dump(forest_pitch, 'forest_pitch.pkl')"
      ],
      "metadata": {
        "colab": {
          "base_uri": "https://localhost:8080/"
        },
        "id": "mgs6U0cdRsjl",
        "outputId": "315b05e8-cca6-492d-ca8e-e9f6574378a1"
      },
      "execution_count": 60,
      "outputs": [
        {
          "output_type": "execute_result",
          "data": {
            "text/plain": [
              "['forest_pitch.pkl']"
            ]
          },
          "metadata": {},
          "execution_count": 60
        }
      ]
    },
    {
      "cell_type": "markdown",
      "source": [
        "roll model train"
      ],
      "metadata": {
        "id": "09BxwGpSHnVi"
      }
    },
    {
      "cell_type": "code",
      "source": [
        "forest_roll = RandomForestRegressor()\n",
        "forest_roll.fit(x, y['roll'])"
      ],
      "metadata": {
        "colab": {
          "base_uri": "https://localhost:8080/"
        },
        "id": "EU7aglSLpdMG",
        "outputId": "f9dd3d6a-fa18-434b-9a27-671421a341b3"
      },
      "execution_count": 233,
      "outputs": [
        {
          "output_type": "execute_result",
          "data": {
            "text/plain": [
              "RandomForestRegressor()"
            ]
          },
          "metadata": {},
          "execution_count": 233
        }
      ]
    },
    {
      "cell_type": "code",
      "source": [
        "r2_score(y['roll'], forest_roll.predict(x))"
      ],
      "metadata": {
        "colab": {
          "base_uri": "https://localhost:8080/"
        },
        "id": "Vhr_EaSPjwBe",
        "outputId": "8ec204af-247b-4798-b806-ecb3c710c72a"
      },
      "execution_count": 234,
      "outputs": [
        {
          "output_type": "execute_result",
          "data": {
            "text/plain": [
              "0.8844994664656501"
            ]
          },
          "metadata": {},
          "execution_count": 234
        }
      ]
    },
    {
      "cell_type": "code",
      "source": [
        "# saving model\n",
        "joblib.dump(forest_pitch, 'forest_roll.pkl')"
      ],
      "metadata": {
        "id": "C7INhPMeTBFh"
      },
      "execution_count": null,
      "outputs": []
    },
    {
      "cell_type": "markdown",
      "source": [
        "picked yaw model trained using SVR\n",
        "\n",
        "picked pitch, roll models trained using random forest regression"
      ],
      "metadata": {
        "id": "QpPOui_DDd10"
      }
    },
    {
      "cell_type": "markdown",
      "source": [
        "# Testing on a new photo"
      ],
      "metadata": {
        "id": "VXEsEwaeDY5F"
      }
    },
    {
      "cell_type": "code",
      "source": [
        "def pred_features(img_name):\n",
        "  '''takes an image name in directory as input returns a pandas dataframe of featres'''\n",
        "  dims = []\n",
        "\n",
        "  faceModule = mediapipe.solutions.face_mesh\n",
        "  # loading image and its correspinding mat file\n",
        "  with faceModule.FaceMesh(static_image_mode=True) as faces:\n",
        "      # loading the image\n",
        "      \n",
        "      image = cv2.imread('/content/' + img_name+ '.jpg')\n",
        "      # processing the face to extract the landmark points (468 point) for each x,y,z\n",
        "      results = faces.process(cv2.cvtColor(image, cv2.COLOR_BGR2RGB))\n",
        "      if results.multi_face_landmarks != None: \n",
        "        # looping over the faces in the image\n",
        "        for face in results.multi_face_landmarks:\n",
        "            for landmark in face.landmark:\n",
        "                x = landmark.x\n",
        "                y = landmark.y\n",
        "                dims.append(x)\n",
        "                dims.append(y)\n",
        "  \n",
        "  dims_df = pd.DataFrame(dims).T  \n",
        "  sub_preproc(dims_df, 6)\n",
        "\n",
        "  return dims_df              \n",
        "\n",
        "\n",
        "\n",
        "def draw_image(img_name, features_df = None):\n",
        "  if not features_df:\n",
        "    features_df = pred_features(img_name)\n",
        "  image = cv2.imread('/content/' + img_name+ '.jpg')\n",
        "  cv2_imshow(draw_axis(image, forest_pitch.predict(features_df)[0], yaw_model.predict(features_df)[0], forest_roll.predict(features_df)[0]))\n"
      ],
      "metadata": {
        "id": "A1k3oAXrpdRE"
      },
      "execution_count": 72,
      "outputs": []
    },
    {
      "cell_type": "code",
      "source": [
        "draw_image('bella')"
      ],
      "metadata": {
        "colab": {
          "base_uri": "https://localhost:8080/",
          "height": 662
        },
        "id": "3j2ZogK9TPsT",
        "outputId": "74c9034f-4477-4456-e051-633d798e6ad8"
      },
      "execution_count": 78,
      "outputs": [
        {
          "output_type": "display_data",
          "data": {
            "text/plain": [
              "<PIL.Image.Image image mode=RGB size=563x645 at 0x7FA3A850CA90>"
            ],
            "image/png": "[encoded data removed]"
          },
          "metadata": {}
        }
      ]
    },
    {
      "cell_type": "code",
      "source": [
        ""
      ],
      "metadata": {
        "id": "SM_nsoMgTVpL"
      },
      "execution_count": null,
      "outputs": []
    }
  ],
  "metadata": {
    "colab": {
      "collapsed_sections": [],
      "name": "HeadPose.ipynb",
      "provenance": []
    },
    "kernelspec": {
      "display_name": "Python 3",
      "name": "python3"
    },
    "language_info": {
      "name": "python"
    },
    "gpuClass": "standard",
    "accelerator": "GPU"
  },
  "nbformat": 4,
  "nbformat_minor": 0
}